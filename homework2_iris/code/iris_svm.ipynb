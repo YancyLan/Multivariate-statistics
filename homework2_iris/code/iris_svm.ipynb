{
 "cells": [
  {
   "cell_type": "code",
   "execution_count": 3,
   "metadata": {},
   "outputs": [],
   "source": [
    "#导入各种程序包\n",
    "import numpy as np\n",
    "import pandas as pd\n",
    "import seaborn as sns\n",
    "import matplotlib.pyplot as plt\n",
    "from sklearn.metrics import classification_report\n",
    "from sklearn.model_selection import train_test_split\n",
    "from sklearn.model_selection import GridSearchCV\n",
    "from sklearn.metrics import classification_report\n",
    "from sklearn.svm import SVC"
   ]
  },
  {
   "cell_type": "code",
   "execution_count": 4,
   "metadata": {},
   "outputs": [],
   "source": [
    "from sklearn.datasets import load_iris\n",
    "iris = load_iris()\n",
    "X_train=iris.data\n",
    "y_train=iris.target\n",
    "X_train,X_test,y_train,y_test=train_test_split(X_train,y_train,\n",
    "    test_size=0.4,random_state=0,stratify=y_train)\n",
    "##划分训练集与测试集"
   ]
  },
  {
   "cell_type": "code",
   "execution_count": 9,
   "metadata": {},
   "outputs": [
    {
     "name": "stdout",
     "output_type": "stream",
     "text": [
      "# Tuning hyper-parameters for precision\n",
      "\n",
      "Best parameters set found on development set:\n",
      "\n",
      "{'C': 10, 'kernel': 'linear'}\n",
      "\n",
      "Grid scores on development set:\n",
      "\n",
      "0.926 (+/-0.113) for {'C': 1, 'gamma': 0.001, 'kernel': 'rbf'}\n",
      "0.926 (+/-0.113) for {'C': 1, 'gamma': 0.0001, 'kernel': 'rbf'}\n",
      "0.919 (+/-0.110) for {'C': 10, 'gamma': 0.001, 'kernel': 'rbf'}\n",
      "0.926 (+/-0.113) for {'C': 10, 'gamma': 0.0001, 'kernel': 'rbf'}\n",
      "0.940 (+/-0.051) for {'C': 100, 'gamma': 0.001, 'kernel': 'rbf'}\n",
      "0.935 (+/-0.077) for {'C': 100, 'gamma': 0.0001, 'kernel': 'rbf'}\n",
      "0.958 (+/-0.126) for {'C': 1000, 'gamma': 0.001, 'kernel': 'rbf'}\n",
      "0.940 (+/-0.051) for {'C': 1000, 'gamma': 0.0001, 'kernel': 'rbf'}\n",
      "0.946 (+/-0.172) for {'C': 1, 'kernel': 'linear'}\n",
      "0.974 (+/-0.068) for {'C': 10, 'kernel': 'linear'}\n",
      "0.964 (+/-0.064) for {'C': 100, 'kernel': 'linear'}\n",
      "0.964 (+/-0.064) for {'C': 1000, 'kernel': 'linear'}\n",
      "              precision    recall  f1-score   support\n",
      "\n",
      "           0       1.00      1.00      1.00        20\n",
      "           1       1.00      0.90      0.95        20\n",
      "           2       0.91      1.00      0.95        20\n",
      "\n",
      "    accuracy                           0.97        60\n",
      "   macro avg       0.97      0.97      0.97        60\n",
      "weighted avg       0.97      0.97      0.97        60\n",
      "\n",
      "\n",
      "# Tuning hyper-parameters for recall\n",
      "\n",
      "Best parameters set found on development set:\n",
      "\n",
      "{'C': 10, 'kernel': 'linear'}\n",
      "\n",
      "Grid scores on development set:\n",
      "\n",
      "0.911 (+/-0.133) for {'C': 1, 'gamma': 0.001, 'kernel': 'rbf'}\n",
      "0.911 (+/-0.133) for {'C': 1, 'gamma': 0.0001, 'kernel': 'rbf'}\n",
      "0.900 (+/-0.130) for {'C': 10, 'gamma': 0.001, 'kernel': 'rbf'}\n",
      "0.911 (+/-0.133) for {'C': 10, 'gamma': 0.0001, 'kernel': 'rbf'}\n",
      "0.922 (+/-0.089) for {'C': 100, 'gamma': 0.001, 'kernel': 'rbf'}\n",
      "0.911 (+/-0.113) for {'C': 100, 'gamma': 0.0001, 'kernel': 'rbf'}\n",
      "0.956 (+/-0.130) for {'C': 1000, 'gamma': 0.001, 'kernel': 'rbf'}\n",
      "0.922 (+/-0.089) for {'C': 1000, 'gamma': 0.0001, 'kernel': 'rbf'}\n",
      "0.944 (+/-0.172) for {'C': 1, 'kernel': 'linear'}\n",
      "0.967 (+/-0.089) for {'C': 10, 'kernel': 'linear'}\n",
      "0.956 (+/-0.083) for {'C': 100, 'kernel': 'linear'}\n",
      "0.956 (+/-0.083) for {'C': 1000, 'kernel': 'linear'}\n",
      "              precision    recall  f1-score   support\n",
      "\n",
      "           0       1.00      1.00      1.00        20\n",
      "           1       1.00      0.90      0.95        20\n",
      "           2       0.91      1.00      0.95        20\n",
      "\n",
      "    accuracy                           0.97        60\n",
      "   macro avg       0.97      0.97      0.97        60\n",
      "weighted avg       0.97      0.97      0.97        60\n",
      "\n",
      "\n"
     ]
    }
   ],
   "source": [
    "#网格搜索调参\n",
    "tuned_parameters = [{'kernel': ['rbf'], 'gamma': [1e-3, 1e-4],\n",
    "                     'C': [1, 10, 100, 1000]},\n",
    "                    {'kernel': ['linear'], 'C': [1, 10, 100, 1000]}]\n",
    "#评分方法定义\n",
    "scores = ['precision', 'recall']\n",
    "for score in scores:\n",
    "    print(\"# Tuning hyper-parameters for %s\" % score)\n",
    "    print()\n",
    "\n",
    "     # 调用 GridSearchCV，将 SVC(), tuned_parameters, cv=5, 还有 scoring 传递进去，\n",
    "    clf = GridSearchCV(SVC(), tuned_parameters, cv=5, scoring='%s_macro' % score)\n",
    "    # 用训练集训练这个学习器 clf\n",
    "    clf.fit(X_train, y_train)\n",
    "\n",
    "    print(\"Best parameters set found on development set:\")\n",
    "    print()\n",
    "\n",
    "    # 再调用 clf.best_params_ 就能直接得到最好的参数搭配结果\n",
    "    print(clf.best_params_)\n",
    "\n",
    "    print()\n",
    "    print(\"Grid scores on development set:\")\n",
    "    print()\n",
    "    means = clf.cv_results_['mean_test_score']\n",
    "    stds = clf.cv_results_['std_test_score']\n",
    "\n",
    "    # 看一下具体的参数间不同数值的组合后得到的分数是多少\n",
    "    for mean, std, params in zip(means, stds, clf.cv_results_['params']):\n",
    "        print(\"%0.3f (+/-%0.03f) for %r\"\n",
    "              % (mean, std * 2, params))\n",
    "    y_pred=clf.predict(X_test)"
   ]
  },
  {
   "cell_type": "code",
   "execution_count": 6,
   "metadata": {},
   "outputs": [
    {
     "name": "stdout",
     "output_type": "stream",
     "text": [
      "              precision    recall  f1-score   support\n",
      "\n",
      "     class 0       1.00      1.00      1.00        20\n",
      "     class 1       1.00      0.90      0.95        20\n",
      "     class 2       0.91      1.00      0.95        20\n",
      "\n",
      "    accuracy                           0.97        60\n",
      "   macro avg       0.97      0.97      0.97        60\n",
      "weighted avg       0.97      0.97      0.97        60\n",
      "\n"
     ]
    }
   ],
   "source": [
    "#评估\n",
    "# 分类报告：precision/recall/fi-score/均值/分类个数\n",
    "from sklearn.metrics import classification_report\n",
    "target_names = ['class 0', 'class 1', 'class 2']\n",
    "print(classification_report(y_test, y_pred, target_names=target_names))"
   ]
  },
  {
   "cell_type": "code",
   "execution_count": 7,
   "metadata": {},
   "outputs": [
    {
     "data": {
      "text/plain": [
       "0.9666666666666667"
      ]
     },
     "execution_count": 7,
     "metadata": {},
     "output_type": "execute_result"
    }
   ],
   "source": [
    "#准确率\n",
    "from sklearn.metrics import accuracy_score\n",
    "accuracy_score(y_test, y_pred)"
   ]
  },
  {
   "cell_type": "code",
   "execution_count": 8,
   "metadata": {},
   "outputs": [
    {
     "data": {
      "text/plain": [
       "array([[20,  0,  0],\n",
       "       [ 0, 18,  2],\n",
       "       [ 0,  0, 20]], dtype=int64)"
      ]
     },
     "execution_count": 8,
     "metadata": {},
     "output_type": "execute_result"
    }
   ],
   "source": [
    "# 混淆矩阵\n",
    "from sklearn.metrics import confusion_matrix\n",
    "confusion_matrix(y_test, y_pred)"
   ]
  }
 ],
 "metadata": {
  "interpreter": {
   "hash": "a71a9e4fb054fff428071484f7faa898cb9ecb31a518fe88e3463da9af879578"
  },
  "kernelspec": {
   "display_name": "Python 3.8.3 ('base')",
   "language": "python",
   "name": "python3"
  },
  "language_info": {
   "codemirror_mode": {
    "name": "ipython",
    "version": 3
   },
   "file_extension": ".py",
   "mimetype": "text/x-python",
   "name": "python",
   "nbconvert_exporter": "python",
   "pygments_lexer": "ipython3",
   "version": "3.8.3"
  },
  "orig_nbformat": 4
 },
 "nbformat": 4,
 "nbformat_minor": 2
}
